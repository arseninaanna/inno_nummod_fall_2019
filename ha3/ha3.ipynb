{
 "cells": [
  {
   "cell_type": "code",
   "execution_count": 1,
   "metadata": {},
   "outputs": [],
   "source": [
    "import sympy as sp\n",
    "import numpy as np\n",
    "import matplotlib.pyplot as plt"
   ]
  },
  {
   "cell_type": "markdown",
   "metadata": {},
   "source": [
    "### 1. Derive formula of $L_{2}(x)$ in terms of interpolation phase $ u = \\frac{x - x_{i}}{h} $.  Integrate $ \\hat{I_{i}^{i+2}}$ with received formula as integrand  [mathematical formula]. Usetimation time: ~30m"
   ]
  },
  {
   "cell_type": "markdown",
   "metadata": {},
   "source": [
    "**Note** Use constant step $h = const$ and condition *number of segments is even* $n = 2k$"
   ]
  },
  {
   "cell_type": "markdown",
   "metadata": {},
   "source": [
    "We know formula for Lagrange polynomial with order 2:\n",
    "\\begin{equation}\n",
    "L_2(x) = \\sum \\limits_{i=0}^{2} f(x_i) * {\\prod_{\\substack{\n",
    "            0\\le j \\le 2\\\\\n",
    "            j != i}}\n",
    "            \\frac {x-x_j} {x_i-x_j}}\n",
    "\\end{equation}\n",
    "\n",
    "Now we substitute to this formula xs for our segment to be integrated:\n",
    "\n",
    "\\begin{equation}\n",
    "L_2(x) = f(x_i)*\\frac {(x-x_{i+1})(x-x_{i+2})} {(x_i-x_{i+1})(x_i-x_{i+2})} + f(x_{i+1})*\\frac {(x-x_{i})(x-x_{i+2})} {(x_{i+1}-x_{i})(x_{i+1}-x_{i+2})} + f(x_{i+2})*\\frac {(x-x_{i})(x-x_{i+1})} {(x_{i+2}-x_{i})(x_{i+2}-x_{i+1})}\n",
    "\\end{equation}\n",
    "\n",
    "We have step $h$. So we know that:\n",
    "\n",
    "$$ x_i - x_{i+1} = -h$$\n",
    "$$ x_i - x_{i+2} = -2h$$\n",
    "$$ x - x_{i} = uh$$\n",
    "\n",
    "Now substitute \n",
    "\n",
    "\\begin{equation}\n",
    "f(x_i)*\\frac {(x-x_{i+1})(x-x_{i+2})} {(x_i-x_{i+1})(x_i-x_{i+2})} = f(x_i)*\\frac {(x-x_i+x_i-x_{i+1})(x-x_i+x_i-x_{i+2})} {(x_i-x_{i+1})(x_i-x_{i+2})} = f(x_i)*\\frac {(uh-h)(uh-2h)} {(-h)(-2h)} = f(x_i)*\\frac {(u-1)(u-2)} {2}\n",
    "\\end{equation}\n",
    "\n",
    "Same for $f(x_i+1)$ and $f(x_i+2)$\n",
    "\n",
    "\\begin{equation}\n",
    "f(x_{i+1})*\\frac {(x-x_{i})(x-x_{i+2})} {(x_{i+1}-x_{i})(x_{i+1}-x_{i+2})} = f(x_{i+1})*\\frac {uh(uh-2h)} {h(-h)} = f(x_{i+1})*(-{u(u-2)})\n",
    "\\end{equation}\n",
    "\n",
    "\\begin{equation}\n",
    "f(x_{i+2})*\\frac {(x-x_{i})(x-x_{i+1})} {(x_{i+2}-x_{i})(x_{i+2}-x_{i+1})} = f(x_{i+2})*\\frac {uh(uh-h)} {2h*h} = f(x_{i+2})*\\frac {u(u-1)} {2}\n",
    "\\end{equation}\n",
    "\n",
    "Now combine all these 3 to L2(x) and integrate (later I will indicate $f(x_i)$ as $f_i$):\n",
    "\n",
    "\\begin{equation}\n",
    "  \\int\\limits_{x_i}^{x_{i+2}} L_2(x)h  \\mathrm{d} u = \\int\\limits_{x_i}^{x_{i+2}} (f_i \\frac {(u-1)(u-2)} {2} - f_{i+1} u(u-2) + f_{i+2} \\frac {u(u-1)} {2}) h  \\mathrm{d} u = \\int\\limits_{x_i}^{x_{i+2}} (f_i \\frac {(u^2-3u+2)} {2}-f_{i+1}u^2+f_{i+1}2u + f_{i+2} \\frac {u^2-u} {2}) h  \\mathrm{d} u = (f_i(\\frac {u^3} {6} - \\frac {3u^2} {4} + u) - f_{i+1}(\\frac {u^3} {3} - u^2) + f_{i+2}(\\frac {u^3} {6} - \\frac {u^2} {4}))h_{x_i}^{x_{i+2}} = \\frac {h} {3} (f_i+4f_{i+1} + f_{i+2})\n",
    "\\end{equation}"
   ]
  },
  {
   "cell_type": "markdown",
   "metadata": {},
   "source": [
    "### 2. Explain how used condition $n = 2k$ helps us in integration. If we want to use odd number of segments we have to integrate with even number of segments but add the value $I_{n-1}^n$. What is the calculation accuracy order of $I_{n-1}^n$? Why? Explain both. [mathematical formula]. Usetimation time: ~30m"
   ]
  },
  {
   "cell_type": "markdown",
   "metadata": {},
   "source": [
    "We get numerical approximations of integrals using 3 points. Between 3 points there are 2 segments. Condition n=2k helps us to use L2 for all segments. If we have odd number of segments then the last segment should be calculated using Newton-Cotes and $L_2$\n",
    "\n",
    "To estimate accuracy of last segment calculation, firstlu should state the way it should be calculated:\n",
    "\\begin{equation}\n",
    "\\hat{I}_{n-1}^{n} = \\hat{I}_{n-3}^{n} - \\hat{I}_{n-2}^{n}\n",
    "\\end{equation}\n",
    "\n",
    "Following is calculated by Newton-Cotes formula (http://mathhelpplanet.com/static.php?p=metody-chislennogo-integrirovaniya): \n",
    "\\begin{equation}\n",
    "\\hat{I}_{n-3}^{n} = \\frac{3h}{8}(f_{n-3} + 3f_{n-2} + 3f_{n-1} + f_n)\n",
    "\\end{equation}\n",
    "\n",
    "This is simple $L_2$:\n",
    "\\begin{equation}\n",
    "\\hat{I}_{n-2}^{n} = \\frac{h}{3}(f_{n-2} + 4f_{n-1} + f_n)\n",
    "\\end{equation}\n",
    "\n",
    "Combine alltogether:\n",
    "\\begin{equation}\n",
    "\\hat{I}_{n-1}^{n} = \\frac{h}{24}(f_{n-3} - 5f_{n-2} + 19f_{n-1} + 9f_n)\n",
    "\\end{equation}\n",
    "\n",
    "Both parts of equation has accuracy of $O(h^5)$ "
   ]
  },
  {
   "cell_type": "markdown",
   "metadata": {},
   "source": [
    "### 3. Derive the formula of whole $\\hat{I_{a}^{b}}$. Summarize all integrals on segments $\\hat{I_{i}^{i+1}}$ for even case, and for odd case. [mathematical formula]. Usetimation time: ~30m"
   ]
  },
  {
   "cell_type": "markdown",
   "metadata": {},
   "source": [
    "For even case:\n",
    "\n",
    "\\begin{equation}\n",
    "\\hat{I_{a}^{b}} = \\sum \\limits_{i=0}^{k-1} \\frac {h} {3} (f_{2i} + 4f_{2i+1} + f_{2i+2}) = \\frac {h} {3} (f_0 + 4{\\sum \\limits_{i=0.5}^{k-0.5}f_{2i}} + 2{\\sum \\limits_{i=1}^{k-1}f_{2i}} + f_n)\n",
    "\\end{equation}\n",
    "\n",
    "For odd case:\n",
    "\n",
    "\\begin{equation}\n",
    "\\hat{I_{a}^{b}} = {\\sum \\limits_{i=0}^{k-1} \\hat{I_{2i}^{2(i+1)}}} + \\hat{I_{2k}^{2k+1}} = \\frac {h} {3} (f_0 + 4{\\sum \\limits_{i=0.5}^{k-0.5}f_{2i}} + 2{\\sum \\limits_{i=1}^{k-1}f_{2i}} + f_n-1) + \\frac{h}{24}(f_{n-3} - 5f_{n-2} + 19f_{n-1} + 9f_n)\n",
    "\\end{equation}\n",
    "\n",
    "\n",
    "\n",
    "\n",
    "\n",
    "\n"
   ]
  },
  {
   "cell_type": "markdown",
   "metadata": {},
   "source": [
    "### 4. Derive the formula of trapezoid quadrature formula error estimation. Use Taylor series expansion for antiderivative $F_{i+1}$ and $f_{i+1}$  [mathematical formula] Usetimation time: ~30m"
   ]
  },
  {
   "cell_type": "markdown",
   "metadata": {},
   "source": [
    "Taylor expansion for $F_{i+1}$ and $f_{i+1}$:\n",
    "\n",
    "\\begin{equation}\n",
    "F_{i+1} = F_i + h_{i+1}f_i + \\frac {h_{i+1}^2} {2}f_i' + \\frac {h_{i+1}^3} {6}f_i''(\\xi_i)\n",
    "\\end{equation}\n",
    "\n",
    "\\begin{equation}\n",
    "f_{i+1} = f_i + h_{i+1}f_i' + \\frac {h_{i+1}^2} {2}f_i''(\\xi_i)\n",
    "\\end{equation}\n",
    "\n",
    "As our h is constant I will simplify $h_{i+1}$ to $h$\n",
    "\\begin{equation}\n",
    "I_{i}^{i+1} - \\hat{I}_{i}^{i+1} = (F_{i+1} - F_i) - \\frac{h}{2}(f_i + f_{i+1}) = F_{i} + hf_{i} + \\frac{h^2}{2}f'_{i} + \\frac{h^3}{6}f''(\\xi_i) - F_{i} - \\frac{h}{2}(f_{i} + f_{i} + hf'{i} + \\frac{h^2}{2}f''({\\xi_i})) = \n",
    "hf_{i} + \\frac{h^2}{2}f'_{i} + \\frac{h^3}{6}f''(\\xi_i) - \\frac{h}{2}(f_{i} + f_{i} + hf'{i} + \\frac{h^2}{2}f''({\\xi_i})) = hf_{i} + \\frac{h^2}{2}f'_{i} + \\frac{h^3}{6}f''(\\xi_i) - hf_{i} - \\frac{h^2}{2}f'_{i} - \\frac{h^3}{4}f''({\\xi_i}) = \\frac{h^3}{6}f''(\\xi_i) - \\frac{h^3}{4}f''({\\xi_i}) = -\\frac{h^3}{12}f''(\\xi_i)\n",
    "\\end{equation}\n",
    "\n",
    "\n"
   ]
  },
  {
   "cell_type": "markdown",
   "metadata": {},
   "source": [
    "### Congrats!"
   ]
  }
 ],
 "metadata": {
  "kernelspec": {
   "display_name": "Python 3",
   "language": "python",
   "name": "python3"
  },
  "language_info": {
   "codemirror_mode": {
    "name": "ipython",
    "version": 3
   },
   "file_extension": ".py",
   "mimetype": "text/x-python",
   "name": "python",
   "nbconvert_exporter": "python",
   "pygments_lexer": "ipython3",
   "version": "3.7.2"
  }
 },
 "nbformat": 4,
 "nbformat_minor": 2
}
