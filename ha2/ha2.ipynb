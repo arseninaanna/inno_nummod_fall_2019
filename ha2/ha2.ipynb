{
 "cells": [
  {
   "cell_type": "code",
   "execution_count": null,
   "metadata": {},
   "outputs": [],
   "source": [
    "import sympy as sp\n",
    "import numpy as np\n",
    "import matplotlib.pyplot as plt"
   ]
  },
  {
   "cell_type": "markdown",
   "metadata": {},
   "source": [
    "### 1. Formulate the statement of the interpolation problem with Cubic Spline [mathematical formula]"
   ]
  },
  {
   "cell_type": "markdown",
   "metadata": {},
   "source": [
    "\n",
    "Spline is a piecewise polynomial of degree k, in our case k = 3. \n",
    "\n",
    "If we have n point we will have n-1 splines to perform interpolation. \n",
    "\n",
    "\n",
    "$$S_i = {a_i - b_i*(x-x_i) + {c_i \\over 2}*(x-x_i)^2 + {d_i \\over 6}*(x-x_i)^3}.$$\n",
    "\n",
    "For simplicity of later calculations $$h_i = x_i - x_{i-1}$$\n",
    "\n",
    "$$S_i = {a_i - b_i*h_i + {c_i \\over 2}*h_i^2 + {d_i \\over 6}*h_i^3}.$$\n",
    "\n",
    "$$a_i = s_i(x_i)$$ \n",
    "\n",
    "$$b_i = s_i'(x_i)$$ \n",
    "\n",
    "$$c_i = s_i''(x_i)$$ \n",
    "\n",
    "$$d_i = s_i'''(x_i)$$"
   ]
  },
  {
   "cell_type": "markdown",
   "metadata": {},
   "source": [
    "### 2. Formulate the functional and differential compatibility conditions [mathematical formula]"
   ]
  },
  {
   "cell_type": "markdown",
   "metadata": {},
   "source": [
    "Functional:\n",
    "$$S(x_{i-1}) - f(x_{i-1}) = 0$$ \n",
    "$$S(x_{i}) - f(x_{i}) = 0$$ \n",
    "Differential:\n",
    "$$S''(x_{i-1}) - f''(x_{i-1}) = 0$$ \n",
    "$$S''(x_{i}) - f''(x_{i}) = 0$$\n"
   ]
  },
  {
   "cell_type": "markdown",
   "metadata": {},
   "source": [
    "### 3. Formulate stitching conditions [mathematical formula]"
   ]
  },
  {
   "cell_type": "markdown",
   "metadata": {},
   "source": [
    "(1) $$S_{i-1}'(x_{i-1}) = S_i'(x_{i-1})$$ \n",
    "\n",
    "(2) $$S_{i-1}''(x_{i-1}) = S_i''(x_{i-1})$$ \n",
    "\n",
    "(3) $$a_{i-1} = S_{i-1}(x_{i-1}) = S_i(x_{i-1})$$\n",
    "\n",
    "\n"
   ]
  },
  {
   "cell_type": "markdown",
   "metadata": {},
   "source": [
    "### 4. Justify why these conditions provide you with the required smoothness [thesis text, no more than 500 characters]"
   ]
  },
  {
   "cell_type": "markdown",
   "metadata": {},
   "source": [
    "Two adjecent splines have one point in common. By the 3rd condition we ensure that adjecent slopes have the same value at their common point. \n",
    "To provide better smoothness than, for example, linear splines do, we require qubic splines to be twice continuously differentiable. So the 1st condition ensures that slope at the common point of adjecent splines does not change its direction and by the 2nd condition we ensure curvature continuity.\n",
    "\n",
    "\n",
    "\n",
    "\n",
    "\n",
    "\n",
    "\n"
   ]
  },
  {
   "cell_type": "markdown",
   "metadata": {},
   "source": [
    "### 5. Derive dependency formula: the dependence of the second derivatives at the grid nodes on the increment of the function (the function values difference on the grid nodes). [Mathematical formulas derivation. Detailed, with clear transitions]"
   ]
  },
  {
   "cell_type": "markdown",
   "metadata": {},
   "source": [
    "Some assumptions:\n",
    "- we have $$x_0, x_1, ..., x_n$$\n",
    "- we have following splines: $$S_1, S_2, ..., S_n$$\n",
    "- x0 and xn are border points\n",
    "\n",
    "Let's define stitching condition in x-1:\n",
    "\n",
    "$$a_{i-1} = S_{i-1}(x_{i-1}) = S_i(x_{i-1}) = a_i + b_i*(x_{i-1} - x_i) + {c_i \\over 2}*(x_{i-1}-x_i)^2 + {d_i \\over 6}*(x_{i-1}-x_i)^3$$\n",
    "\n",
    "1. \n",
    "We know that h = x - x_i so (i = 2 .. n): \n",
    "$$a_{i-1} = a_i - b_i*h_i + {c_i \\over 2}*h_i^2 - {d_i \\over 6}*h_i^3$$ \n",
    "\n",
    "2. \n",
    "Now let's define continuity conditions for 1st and 2nd derivative in x-1 (i = 2 .. n):\n",
    "\n",
    "$$b_{i-1} = S_{i-1}'(x_{i-1}) = S_i'(x_{i-1}) = b_i + c_i*(x_{i-1}-x_i) + {d_i \\over 2}*(x_{i-1}-x_i)^2$$\n",
    "$$b_{i-1} = b_i - c_i*h_i + {d_i \\over 2}*h_i^2$$\n",
    "\n",
    "\n",
    "3. \n",
    "$$c_{i-1} = S_{i-1}''(x_{i-1}) = S_i''(x_{i-1}) = c_i + d_i*(x_{i-1}-x_i)$$\n",
    "$$c_{i-1} = c_i - d_i*h_i$$\n",
    "\n",
    "\n",
    "4. \n",
    "We know that (i = 1 .. n):\n",
    "$$a_i = S_i(x_i) = f(x_i)$$\n",
    "\n",
    "\n",
    "5. \n",
    "We also have border point x0 which is not counted above but we know equation for it: \n",
    "$$a_1 + b_1*(x_0 - x_1) + {c_1 \\over 2}*(x_0-x_1)^2 + {d_1 \\over 6}*(x_0-x_1)^3 = f(x_0)$$\n",
    "$$a_1 - b_1*h_1 + {c_1 \\over 2}*h_1^2 - {d_1 \\over 6}*h_1^3 = f(x_0)$$\n",
    "\n",
    "Now we have 3*(N-1) + N + 1 = 4*N - 2 equations but we have 4N unknown variables so we can choose border conditions: \n",
    "$$f''(x_0) = f''(x_n) = 0$$\n",
    "$$c_n = s_n''(x_n) = f''(x_n) = 0$$\n",
    "We do not have s_0 so we will substitute x_0 in s_1 and we get:\n",
    "$$c_1 - d_1*h_1 = s_1''(x_0) = f''(x_0) = 0$$\n",
    "\n",
    "We know that a_i = f(x_i) so we can substitute and get the following equations:<br/>\n",
    "(1) $${{f(x_i) - f(x_{i-1})} \\over h_i} = b_i - {c_i \\over 2}*h_i + {d_i \\over 6}*h_i^2$$ \n",
    "(2) $$b_{i-1} = b_i - c_i*h_i + {d_i \\over 2}*h_i^2$$\n",
    "(3) $$c_{i-1} = c_i - d_i*h_i$$\n",
    "(4) $${{f(x_1) - f(x_0)} \\over h_1} = b_1 - {c_1 \\over 2}*h_1 + {d_1 \\over 6}*h_1^2$$\n",
    "(5) $$c_n = 0$$\n",
    "(6) $$c_1 - d_1*h_1 = 0$$\n",
    "\n",
    "From 3rd equation we can define \n",
    "$$d_i*h_i = c_i - c_{i-1}$$\n",
    "\n",
    "Now we can substitute:<br/>\n",
    "(1) $${{f(x_i) - f(x_{i-1})} \\over h_i} = b_i - {c_i \\over 2}*h_i + {h_i \\over 6}*(c_i - c_{i-1})$$ \n",
    "(2) $$b_{i-1} = b_i - c_i*h_i + {h_i \\over 2}*(c_i - c_{i-1})$$\n",
    "(4) $${{f(x_1) - f(x_0)} \\over h_1} = b_1 - {c_1 \\over 2}*h_1 + {h_1 \\over 6}*c_1$$\n",
    "\n",
    "Now we combine c_i:<br/>\n",
    "(1) $${{f(x_i) - f(x_{i-1})} \\over h_i} = b_i - {c_i \\over 3}*h_i - {c_{i-1} \\over 6}*h_i$$ \n",
    "(2) $$b_i - b_{i-1} - {c_i \\over 2}*h_i - {c_{i-1} \\over 2}*h_i = 0$$ \n",
    "(4) $${{f(x_1) - f(x_0)} \\over h_1} = b_1 - {c_1 \\over 3}*h_1$$\n",
    "\n",
    "Now we can define b_i and b_1 from equations 1 and 4:\n",
    "$$b_1 = {c_1 \\over 3}*h_1 - {{f(x_1) - f(x_0)} \\over h_1}$$\n",
    "$$b_i = {c_i \\over 3}*h_i + {c_{i-1} \\over 6}*h_i + {{f(x_i) - f(x_{i-1})} \\over h_i}$$ \n",
    "\n",
    "Now we can substitute bs in 2 equation: <br/>\n",
    "$${h_{i-1} \\over 6}*c_{i-2} + {{h_{i-1} + h_i} \\over 3}*c_{i-1} + {h_i \\over 6}*c_i = {{f(x_i) - f(x_{i-1})} \\over h_i} - {{f(x_{i-1}) - f(x_{i-2})} \\over h_{i-1}}$$\n",
    "\n",
    "To simplify the calculations lets divide by 6/(h_i + h_(i-1)):\n",
    "$${h_{i-1} \\over {h_i + h_{i-1}}}*c_{i-2} + 2*c_{i-1} + {h_i \\over {h_i + h_{i-1}}}*c_i = 6*{{{f(x_i) - f(x_{i-1})} \\over h_i} - {{f(x_{i-1}) - f(x_{i-2})} \\over h_{i-1}} \\over {h_i + h_{i-1}}}$$\n",
    "\n",
    "So we derived the dependance of the second derivative (I'm not very attentive, maybe I have some mistakes in between steps) \n",
    "Extra conditions:<br/>\n",
    "c_0 is used for ease of computation of b_1 and d_1 but actually we do not have c_0:<br/>\n",
    "$$c_0 = 0$$\n",
    "$$c_n = 0$$"
   ]
  },
  {
   "cell_type": "markdown",
   "metadata": {},
   "source": [
    "### 6. Create a system of equations using this formula [Matrix representation. Mathematical formulas]"
   ]
  },
  {
   "cell_type": "markdown",
   "metadata": {},
   "source": [
    "Mathematical formula for matrix in previous step. We have rows from 1 to n-1 for coefficients from c_1 to c_(n-1)<br/>\n",
    "Also my assumption that h indexes start from 1\n",
    "$$\\begin{bmatrix} \n",
    "2 & {h_2 \\over {h_1 + h_2}} & 0 & 0 & ... & ... \\\\ \n",
    "{h_2 \\over{h_2 + h_3}} & 2 & {h_3 \\over {h_2 + h_3}} & ... & ... & ...\\\\ \n",
    "0 & {h_3 \\over{h_3 + h_4}} & 2 & {h_4 \\over {h_3 + h_4}} & ... & ...\\\\ \n",
    "0 & 0 &{h_4 \\over{h_4 + h_5}} & 2 & {h_5 \\over {h_4 + h_5}} & ... \\\\ \n",
    "... & ... & ... & ... & ... & ... \\\\\n",
    "... & ... & ... & ... & {h_{n-1} \\over {h_{n-1} + h_{n}}} & 2\n",
    "\\end{bmatrix}$$\n",
    "\n",
    "\n",
    "\n",
    "\n"
   ]
  },
  {
   "cell_type": "markdown",
   "metadata": {},
   "source": [
    "### 7. Explain what is an unknown variable in this system. whether the system is closed with respect to an unknown variable. What is missing for closure. [Text, no more than 200 characters]"
   ]
  },
  {
   "cell_type": "markdown",
   "metadata": {},
   "source": [
    "c_i is unknown. The system is closed. It would not be closed if we would not add 2 border conditions in point 5\n",
    "\n",
    "\n",
    "\n",
    "\n",
    "\n",
    "\n"
   ]
  },
  {
   "cell_type": "markdown",
   "metadata": {},
   "source": [
    "### 8. Bring this matrix to the appropriate form to use the Tridiagonal matrix algorithm [Mathematical derivation. Use Gauss Elimination]"
   ]
  },
  {
   "cell_type": "markdown",
   "metadata": {},
   "source": [
    "The matrix is in tridiagonal form. Now we need to perform gauss elimination and then reverse pass to get our coefficients:\n",
    "\n",
    "$$\\begin{bmatrix} \n",
    "b_1 & c_1 & 0 & 0 & ... & ... \\\\ \n",
    "a_2 & b_2 & c_2 & ... & ... & ...\\\\ \n",
    "0 & a_3 & b_3 & c_3 & ... & ...\\\\ \n",
    "0 & 0 & a_4 & b_4 & c_4 & ... \\\\ \n",
    "... & ... & ... & ... & ... & ... \\\\\n",
    "... & ... & ... & ... & a_n & b_n\n",
    "\\end{bmatrix}$$\n",
    "\n",
    "The matrix after gauss elimination will have 0's at a diagonal and 1's at b diagonal.\n",
    "1. \n",
    "We divide first row by b1 so $$c_1' = {c_1 \\over b_1}$$\n",
    "2. \n",
    "To put 0 at a2 we should multiply first row by a2 and substract from second row\n",
    "3. \n",
    "At the place b2 we get:\n",
    "$$b_2' = b_2  - c_1' * a_2$$\n",
    "4. \n",
    "Now we should get c_2' so that b_2' becomes 1:\n",
    "$$c_2' ={c_2' \\over {b_2  - c_1' * a_2}}$$\n",
    "\n",
    "5. \n",
    "The next rows are processed in the same way so we can easily derive formula for new c' diagonal\n",
    "6. \n",
    "With matrix itself the result vector <d1, ..., dn> is also changing in the similar way<br/>\n",
    "$$d_1' = {d_1 \\over b_1}$$\n",
    "\n",
    "7. \n",
    "Then goes d2 and is calculated in the following way\n",
    "$$d_2' = {{d_2 - a_2*d_1'} \\over {b_2  - c_1' * a_2}}$$\n",
    "\n",
    "8. \n",
    "Divisor for c' and d' is common since we divide row by the same number and the numerator differs becuse above c we have zeros and we subtruct 0"
   ]
  },
  {
   "cell_type": "markdown",
   "metadata": {},
   "source": [
    "### 9. Derive formulas of direct pass and reverse pass of Tridiagonal matrix algorithm [Mathematical formals]"
   ]
  },
  {
   "cell_type": "markdown",
   "metadata": {},
   "source": [
    "1. \n",
    "Direct pass:\n",
    "$$c_1 = {c_1 \\over b_1}$$\n",
    "$$c_i = {c_i' \\over {b_i  - c_{i-1}' * a_i}}$$\n",
    "<br/>\n",
    "$$d_1 = {d_1 \\over b_1}$$\n",
    "$$d_i = {{d_i - a_i*d_{i-1}'} \\over {b_i  - c_{i-1}' * a_i}}$$\n",
    "2. \n",
    "Reverse pass:\n",
    "$$x_n = d_n'$$\n",
    "$$x_i = d_i' + c_i'*x_{i+1}$$\n",
    "\n",
    "\n",
    "\n",
    "\n",
    "\n"
   ]
  },
  {
   "cell_type": "markdown",
   "metadata": {},
   "source": [
    "### 10. Implement code prototype of the future algorithm implementation. Classes/methods (if you use OOP), functions. The final implementation (on language chosen by you) should not differ from the functions declared in the prototype. [Python code]"
   ]
  },
  {
   "cell_type": "code",
   "execution_count": 7,
   "metadata": {},
   "outputs": [
    {
     "name": "stdout",
     "output_type": "stream",
     "text": [
      "0.308879154 0.808654047 0.999556808 0.808640001 0.308935336 -0.309089836 -0.8078675 -1.002492314 -0.797684526 "
     ]
    }
   ],
   "source": [
    "import numpy as np\n",
    "import math\n",
    "\n",
    "\n",
    "def array_from_str(line):\n",
    "    return list(map(float, line.split(\" \")))\n",
    "\n",
    "\n",
    "# meaningful values from index 1\n",
    "def calculate_h_i(points):\n",
    "    h_i = np.zeros(len(points))\n",
    "    for i in range(1, len(points)):\n",
    "        h_i[i] = points[i] - points[i - 1]\n",
    "\n",
    "    return h_i\n",
    "\n",
    "\n",
    "# meaningful values from index 1\n",
    "def calculate_b_coeff(c_coeff, h_coeff, y_points):\n",
    "    b_coeff = np.zeros(len(c_coeff))\n",
    "    for i in range(1, len(c_coeff)):\n",
    "        b_coeff[i] = (c_coeff[i] * h_coeff[i]) / 3 + (c_coeff[i - 1] * h_coeff[i]) / 6 + (\n",
    "                y_points[i] - y_points[i - 1]) / h_coeff[i]\n",
    "\n",
    "    return b_coeff\n",
    "\n",
    "\n",
    "# meaningful values from index 1\n",
    "def calculate_d_coeff(c_coeff, h_coeff):\n",
    "    d_coeff = np.zeros(len(c_coeff))\n",
    "    for i in range(1, len(c_coeff)):\n",
    "        d_coeff[i] = (c_coeff[i] - c_coeff[i - 1]) / h_coeff[i]\n",
    "\n",
    "    return d_coeff\n",
    "\n",
    "\n",
    "def construct_tridiagonal(h_coeff, m_dim):\n",
    "    matrix = np.zeros((m_dim, m_dim))\n",
    "    matrix[0, 0] = 2\n",
    "    matrix[0, 1] = h_coeff[2] / (h_coeff[1] + h_coeff[2])\n",
    "    matrix[m_dim - 1, m_dim - 1] = 2\n",
    "    matrix[m_dim - 1, m_dim - 2] = h_coeff[-2] / (h_coeff[-2] + h_coeff[-1])\n",
    "    col_pos = 0\n",
    "    for row in range(1, m_dim - 1):\n",
    "        matrix[row, col_pos] = h_coeff[row + 1] / (h_coeff[row + 1] + h_coeff[row + 2])\n",
    "        matrix[row, col_pos + 1] = 2\n",
    "        matrix[row, col_pos + 2] = h_coeff[row + 2] / (h_coeff[row + 1] + h_coeff[row + 2])\n",
    "        col_pos += 1\n",
    "\n",
    "    return matrix\n",
    "\n",
    "\n",
    "def get_spline_index(orig_points, point):\n",
    "    for i in range(len(orig_points) - 1):\n",
    "        if orig_points[i] <= point < orig_points[i + 1]:\n",
    "            return i + 1\n",
    "    return len(orig_points) - 1\n",
    "\n",
    "\n",
    "def calculate_y(a, b, c, d, x_i, x):\n",
    "    return a + b * (x - x_i) + c / 2 * math.pow(x - x_i, 2) + d / 6 * math.pow(x - x_i, 3)\n",
    "\n",
    "points_x = [0.0, 0.1, 0.2, 0.3, 0.4, 0.5, 0.6, 0.7, 0.8, 0.9]\n",
    "points_y = [0.0, 0.5877852522924731, 0.9510565162951535, 0.9510565162951535, 0.5877852522924732, 1.2246467991473532e-16, -0.5877852522924734, -0.9510565162951535, -0.9510565162951536, -0.5877852522924734]\n",
    "points_x_dash = [0.05, 0.15, 0.25, 0.35, 0.45, 0.55, 0.65, 0.75, 0.85]\n",
    "h_coeff = calculate_h_i(points_x)\n",
    "matrix_dim = len(h_coeff) - 2\n",
    "inv_matrix = np.linalg.inv(construct_tridiagonal(h_coeff, matrix_dim))\n",
    "\n",
    "res_vec = np.zeros(matrix_dim)\n",
    "for i in range(matrix_dim):\n",
    "    part1 = (points_y[i + 2] - points_y[i + 1]) / h_coeff[i + 2]\n",
    "    part2 = (points_y[i + 1] - points_y[i]) / h_coeff[i + 1]\n",
    "    res_vec[i] = 6 * (part1 - part2) / (h_coeff[i + 2] + h_coeff[i + 1])\n",
    "\n",
    "c_coeff = [0] + list(inv_matrix.dot(res_vec)) + [0]\n",
    "b_coeff = calculate_b_coeff(c_coeff, h_coeff, points_y)\n",
    "d_coeff = calculate_d_coeff(c_coeff, h_coeff)\n",
    "\n",
    "for j, point in enumerate(points_x_dash):\n",
    "    index = get_spline_index(points_x, point)\n",
    "    y = round(\n",
    "        calculate_y(points_y[index], b_coeff[index], c_coeff[index], d_coeff[index], points_x[index], point),\n",
    "        9)\n",
    "\n",
    "    print(y, end=' ')"
   ]
  },
  {
   "cell_type": "markdown",
   "metadata": {},
   "source": [
    "### 11. Derive formula of Cubic Spline method error [Mathematical formulas]"
   ]
  },
  {
   "cell_type": "markdown",
   "metadata": {},
   "source": [
    "It is proved that on a uniform grid a spline function $S_{i}$ converges to $f(x) \\in C_{4}[a, b]$ with fourth order, and following estimatations are valid:\n",
    "\n",
    "$||f^{(p)}(x) - S^{(p)} _{3}(x)||_{C[a, b]} = \\max _{[a, b]} |f^{(p)}(x) - S^{(p)} _{3}(x)| \\leq M_{4}h^{4-p}$, $p = 0, 1, 2.$\n",
    "\n",
    "Where $M_4 = \\max_{[a,b]}|f^{(4)}(x)|$.\n",
    "\n",
    "On an ununiform grid:\n",
    "\n",
    "$||f^{(p)}(x) - S^{(p)} _{3}(x)||_{C[a, b]} \\leq M_{4}h_{max}^{4-p}$, где $h_{max} = \\max _{1 \\leq i \\leq n}h_{i}$.\n",
    "\n"
   ]
  },
  {
   "cell_type": "markdown",
   "metadata": {},
   "source": [
    "### 12. Rate the complexity of the algorithm [Text, and rate in terms of big O, no more than 100 characters]"
   ]
  },
  {
   "cell_type": "markdown",
   "metadata": {},
   "source": [
    "The complexity is - O(n) since forward and reverse pass both have complexity O(n) \n",
    "\n",
    "\n",
    "\n",
    "\n",
    "\n",
    "\n"
   ]
  },
  {
   "cell_type": "markdown",
   "metadata": {},
   "source": [
    "### Congrats!"
   ]
  }
 ],
 "metadata": {
  "kernelspec": {
   "display_name": "Python 3",
   "language": "python",
   "name": "python3"
  },
  "language_info": {
   "codemirror_mode": {
    "name": "ipython",
    "version": 3
   },
   "file_extension": ".py",
   "mimetype": "text/x-python",
   "name": "python",
   "nbconvert_exporter": "python",
   "pygments_lexer": "ipython3",
   "version": "3.7.2"
  }
 },
 "nbformat": 4,
 "nbformat_minor": 2
}
